{
 "cells": [
  {
   "cell_type": "code",
   "execution_count": null,
   "id": "8742f7d7",
   "metadata": {},
   "outputs": [],
   "source": [
    "#Question 1\n",
    "nums = []\n",
    "for i in range(2000, 3201):\n",
    "    if i%7==0 and i%5!=5:\n",
    "        nums.append(i)\n",
    "print(nums)"
   ]
  },
  {
   "cell_type": "code",
   "execution_count": null,
   "id": "cd3f15c2",
   "metadata": {},
   "outputs": [],
   "source": [
    "#Question 2\n",
    "num = int(input(\"Type in a number: \"))\n",
    "fct = num\n",
    "if num==0:\n",
    "    print(1)\n",
    "elif num<0:\n",
    "    print(\"Negative numbers don't have factorials.\")\n",
    "elif num>0:\n",
    "    for i in range(1, num):\n",
    "        fct = fct*(num-i)\n",
    "    print(fct)\n",
    "else:\n",
    "    print(\"There was an error.\")"
   ]
  },
  {
   "cell_type": "code",
   "execution_count": null,
   "id": "31b404c7",
   "metadata": {},
   "outputs": [],
   "source": [
    "#Question 3\n",
    "n = int(input(\"Type in a number: \"))\n",
    "square = {}\n",
    "for i in range(1, n+1):\n",
    "    square[i] = i**2\n",
    "print(square)    "
   ]
  },
  {
   "cell_type": "code",
   "execution_count": null,
   "id": "d2701af2",
   "metadata": {},
   "outputs": [],
   "source": [
    "#Question 4\n",
    "sent = input(\"Type in a word or sentence: \")\n",
    "m = int(input(\"Type in the index of the character you want removed: \"))\n",
    "sent1 = list(sent)\n",
    "del sent1[m]\n",
    "sent2 = \"\".join(sent1)\n",
    "print(sent2)"
   ]
  },
  {
   "cell_type": "code",
   "execution_count": null,
   "id": "b3e573f4",
   "metadata": {},
   "outputs": [],
   "source": [
    "#Question 5 \n",
    "import numpy as np\n",
    "myarray = np.array([[0, 1], [2, 3], [4, 5]])\n",
    "mylist = myarray.tolist()\n",
    "print(\"The original array: \", myarray)\n",
    "print(\"Array converted to list: \", mylist)"
   ]
  },
  {
   "cell_type": "code",
   "execution_count": null,
   "id": "25266048",
   "metadata": {},
   "outputs": [],
   "source": [
    "#Question 6\n",
    "array1 = [0, 1, 2]\n",
    "array2 = [2, 1, 0]\n",
    "print(np.cov(array1, array2))"
   ]
  },
  {
   "cell_type": "code",
   "execution_count": null,
   "id": "3c6658e0",
   "metadata": {},
   "outputs": [],
   "source": [
    "#Question 7\n",
    "#Formule: q = round(math.sqrt((2*c*d)/h))\n",
    "import math\n",
    "c = 50\n",
    "h = 30\n",
    "d = input(\"Type in three numbers separated by a comma: \")\n",
    "d0 = d.split(\",\")\n",
    "d1 = int(d0[0])\n",
    "d2 = int(d0[1])\n",
    "d3 = int(d0[2])\n",
    "q1 = round(math.sqrt((2*c*d1)/h))\n",
    "q2 = round(math.sqrt((2*c*d2)/h))\n",
    "q3 = round(math.sqrt((2*c*d3)/h))\n",
    "print(\"The result is: \", q1, q2, q3)"
   ]
  }
 ],
 "metadata": {
  "kernelspec": {
   "display_name": "Python 3",
   "language": "python",
   "name": "python3"
  },
  "language_info": {
   "codemirror_mode": {
    "name": "ipython",
    "version": 3
   },
   "file_extension": ".py",
   "mimetype": "text/x-python",
   "name": "python",
   "nbconvert_exporter": "python",
   "pygments_lexer": "ipython3",
   "version": "3.8.8"
  }
 },
 "nbformat": 4,
 "nbformat_minor": 5
}
